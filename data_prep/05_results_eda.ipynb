{
 "cells": [
  {
   "cell_type": "code",
   "execution_count": null,
   "id": "f1489538-de09-4566-8224-db6d7798d418",
   "metadata": {},
   "outputs": [],
   "source": [
    "from datasets import load_from_disk\n",
    "import matplotlib.pyplot as plt\n",
    "import pandas as pd"
   ]
  },
  {
   "cell_type": "code",
   "execution_count": null,
   "id": "2e94516a-b969-4837-be00-84e9175601c6",
   "metadata": {},
   "outputs": [],
   "source": [
    "dataset = load_from_disk('../data/translation_eval_results/translate_evaluation_results/')\n",
    "df = dataset.to_pandas()"
   ]
  },
  {
   "cell_type": "code",
   "execution_count": null,
   "id": "03bc735b",
   "metadata": {},
   "outputs": [],
   "source": [
    "idx = 110"
   ]
  },
  {
   "cell_type": "code",
   "execution_count": null,
   "id": "92dbfd90-c932-4732-80e6-526a38d9ecdd",
   "metadata": {},
   "outputs": [],
   "source": [
    "for m, c1, c2, w in zip(df.loc[idx].messages, df.loc[idx].translated_reponse_m4t, df.loc[idx].translated_reponse_gpt, df.loc[idx].winners):\n",
    "    print(m['content'])\n",
    "    print('\\n')\n",
    "    print(f'm4t: {c1}')\n",
    "    print(f'cgpt: {c2}')\n",
    "    print(f'winner: {w}')\n",
    "    print('\\n')"
   ]
  },
  {
   "cell_type": "code",
   "execution_count": null,
   "id": "c2b16f85",
   "metadata": {},
   "outputs": [],
   "source": [
    "df.loc[199].translated_reponse_m4t"
   ]
  },
  {
   "cell_type": "code",
   "execution_count": null,
   "id": "4da12a5e",
   "metadata": {},
   "outputs": [],
   "source": [
    "df.loc[199].translated_reponse_gpt"
   ]
  },
  {
   "cell_type": "code",
   "execution_count": null,
   "id": "bdb01d69",
   "metadata": {},
   "outputs": [],
   "source": [
    "df.loc[199].winners"
   ]
  },
  {
   "cell_type": "code",
   "execution_count": null,
   "id": "ae0178d1-8ab5-4d43-b714-ab92f87e138e",
   "metadata": {},
   "outputs": [],
   "source": [
    "results = {\n",
    "    'translated_reponse_m4t': 0,\n",
    "    'translated_reponse_gpt': 0\n",
    "}\n",
    "\n",
    "for elem in df.winners.to_list():\n",
    "    for e in elem:\n",
    "        results[e] += 1"
   ]
  },
  {
   "cell_type": "code",
   "execution_count": null,
   "id": "5bd6d2e2-4ecc-4182-a496-d4b69c703f7c",
   "metadata": {},
   "outputs": [],
   "source": [
    "results"
   ]
  },
  {
   "cell_type": "code",
   "execution_count": null,
   "id": "682d622b-6239-4413-93d3-563786ce8fdb",
   "metadata": {},
   "outputs": [],
   "source": [
    "dataset = load_from_disk('../data/tmp/2023122114/translation_eval/')\n",
    "df = dataset.to_pandas()"
   ]
  },
  {
   "cell_type": "code",
   "execution_count": null,
   "id": "3daf8e34",
   "metadata": {},
   "outputs": [],
   "source": [
    "idx = 1"
   ]
  },
  {
   "cell_type": "code",
   "execution_count": null,
   "id": "5986bfa0",
   "metadata": {},
   "outputs": [],
   "source": [
    "for idx in range(df.shape[0]):\n",
    "    for m, c1, c2, c3 in zip(df.loc[idx].messages, df.loc[idx].translated_reponse_m4t, df.loc[idx].translated_reponse_gpt, df.loc[idx].translated_reponse_gemini):\n",
    "        print(m['content'])\n",
    "        print('\\n')\n",
    "        print(f'm4t: {c1}')\n",
    "        print(f'cgpt: {c2}')\n",
    "        print(f'gemini: {c3}')\n",
    "        print('\\n')\n",
    "    print('\\n\\n\\n\\n')"
   ]
  },
  {
   "cell_type": "code",
   "execution_count": null,
   "id": "459a652a",
   "metadata": {},
   "outputs": [],
   "source": []
  }
 ],
 "metadata": {
  "kernelspec": {
   "display_name": "Python 3 (ipykernel)",
   "language": "python",
   "name": "python3"
  },
  "language_info": {
   "codemirror_mode": {
    "name": "ipython",
    "version": 3
   },
   "file_extension": ".py",
   "mimetype": "text/x-python",
   "name": "python",
   "nbconvert_exporter": "python",
   "pygments_lexer": "ipython3",
   "version": "3.11.7"
  }
 },
 "nbformat": 4,
 "nbformat_minor": 5
}
