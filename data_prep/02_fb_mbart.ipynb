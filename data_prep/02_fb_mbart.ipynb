{
 "cells": [
  {
   "cell_type": "code",
   "execution_count": 1,
   "id": "b6e49584-c0f4-473e-b3bc-2d1d9cfd6359",
   "metadata": {},
   "outputs": [
    {
     "name": "stderr",
     "output_type": "stream",
     "text": [
      "/home/romit/.virtualenvs/mahout/lib/python3.11/site-packages/transformers/deepspeed.py:23: FutureWarning: transformers.deepspeed module is deprecated and will be removed in a future version. Please import deepspeed modules directly from transformers.integrations\n",
      "  warnings.warn(\n"
     ]
    }
   ],
   "source": [
    "import numpy as np\n",
    "import matplotlib.pyplot as plt\n",
    "    \n",
    "from openai import OpenAI\n",
    "from dotenv import load_dotenv\n",
    "from typing import List, Dict\n",
    "\n",
    "from datasets import load_dataset\n",
    "\n",
    "import utils as utils\n",
    "from transformers import AutoProcessor, SeamlessM4TModel"
   ]
  },
  {
   "cell_type": "markdown",
   "id": "cc341903-32ed-4dd1-b270-5ddfa3c88999",
   "metadata": {},
   "source": [
    "Huggingface models"
   ]
  },
  {
   "cell_type": "code",
   "execution_count": 2,
   "id": "c19c878c-335a-4045-bbff-a3d38dd8ea04",
   "metadata": {},
   "outputs": [],
   "source": [
    "model_id = 'facebook/hf-seamless-m4t-large'"
   ]
  },
  {
   "cell_type": "code",
   "execution_count": 3,
   "id": "3b12c30a-ef73-4fd7-83a9-ca72e74b7d3e",
   "metadata": {},
   "outputs": [
    {
     "name": "stderr",
     "output_type": "stream",
     "text": [
      "Special tokens have been added in the vocabulary, make sure the associated word embeddings are fine-tuned or trained.\n",
      "Special tokens have been added in the vocabulary, make sure the associated word embeddings are fine-tuned or trained.\n",
      "/home/romit/.virtualenvs/mahout/lib/python3.11/site-packages/torch/cuda/__init__.py:138: UserWarning: CUDA initialization: CUDA unknown error - this may be due to an incorrectly set up environment, e.g. changing env variable CUDA_VISIBLE_DEVICES after program start. Setting the available devices to be zero. (Triggered internally at ../c10/cuda/CUDAFunctions.cpp:108.)\n",
      "  return torch._C._cuda_getDeviceCount() > 0\n"
     ]
    },
    {
     "data": {
      "application/vnd.jupyter.widget-view+json": {
       "model_id": "465aeba207b6489e82f70427d724f62c",
       "version_major": 2,
       "version_minor": 0
      },
      "text/plain": [
       "generation_config.json:   0%|          | 0.00/3.35k [00:00<?, ?B/s]"
      ]
     },
     "metadata": {},
     "output_type": "display_data"
    }
   ],
   "source": [
    "processor = AutoProcessor.from_pretrained(model_id)\n",
    "model = SeamlessM4TModel.from_pretrained(model_id, device_map='auto')"
   ]
  },
  {
   "cell_type": "markdown",
   "id": "4c6a027c-3bea-4187-ab9b-d0197bae786b",
   "metadata": {},
   "source": [
    "Hugginface open datasets"
   ]
  },
  {
   "cell_type": "code",
   "execution_count": 4,
   "id": "ae30e42e-025b-4d2d-904a-3ecb9d5f79b2",
   "metadata": {},
   "outputs": [
    {
     "data": {
      "application/vnd.jupyter.widget-view+json": {
       "model_id": "afc19924bfe54d7491f80bd0b07a49da",
       "version_major": 2,
       "version_minor": 0
      },
      "text/plain": [
       "Downloading readme:   0%|          | 0.00/5.65k [00:00<?, ?B/s]"
      ]
     },
     "metadata": {},
     "output_type": "display_data"
    },
    {
     "data": {
      "application/vnd.jupyter.widget-view+json": {
       "model_id": "bee1db02deca4c43b4b63734b1444e58",
       "version_major": 2,
       "version_minor": 0
      },
      "text/plain": [
       "Downloading data files:   0%|          | 0/2 [00:00<?, ?it/s]"
      ]
     },
     "metadata": {},
     "output_type": "display_data"
    },
    {
     "data": {
      "application/vnd.jupyter.widget-view+json": {
       "model_id": "c3fcaefaabfb4d1dacb45e847ed5506e",
       "version_major": 2,
       "version_minor": 0
      },
      "text/plain": [
       "Downloading data:   0%|          | 0.00/10.5M [00:00<?, ?B/s]"
      ]
     },
     "metadata": {},
     "output_type": "display_data"
    },
    {
     "data": {
      "application/vnd.jupyter.widget-view+json": {
       "model_id": "af97b6220c694aa0b8c1bd0c8b25db13",
       "version_major": 2,
       "version_minor": 0
      },
      "text/plain": [
       "Downloading data:   0%|          | 0.00/571k [00:00<?, ?B/s]"
      ]
     },
     "metadata": {},
     "output_type": "display_data"
    },
    {
     "data": {
      "application/vnd.jupyter.widget-view+json": {
       "model_id": "2959401de99c40b19dc275c87084d677",
       "version_major": 2,
       "version_minor": 0
      },
      "text/plain": [
       "Extracting data files:   0%|          | 0/2 [00:00<?, ?it/s]"
      ]
     },
     "metadata": {},
     "output_type": "display_data"
    },
    {
     "data": {
      "application/vnd.jupyter.widget-view+json": {
       "model_id": "5fe6fdd211444140928335a8d3989cc5",
       "version_major": 2,
       "version_minor": 0
      },
      "text/plain": [
       "Generating train_sft split:   0%|          | 0/9500 [00:00<?, ? examples/s]"
      ]
     },
     "metadata": {},
     "output_type": "display_data"
    },
    {
     "data": {
      "application/vnd.jupyter.widget-view+json": {
       "model_id": "0d4ed8aba4914d329038113cd949f231",
       "version_major": 2,
       "version_minor": 0
      },
      "text/plain": [
       "Generating test_sft split:   0%|          | 0/500 [00:00<?, ? examples/s]"
      ]
     },
     "metadata": {},
     "output_type": "display_data"
    }
   ],
   "source": [
    "dataset = load_dataset('HuggingFaceH4/no_robots')"
   ]
  },
  {
   "cell_type": "code",
   "execution_count": null,
   "id": "9c0e2b6e-525d-43ae-bc84-10621bdddfba",
   "metadata": {},
   "outputs": [],
   "source": [
    "def get_stringify_conversation(example: Dict):\n",
    "    str_msg = \"\"\n",
    "    for message in example['messages']:\n",
    "        str_msg += message['content']\n",
    "        str_msg += '\\n'\n",
    "\n",
    "    example['str_msg'] = str_msg\n",
    "    return example"
   ]
  },
  {
   "cell_type": "code",
   "execution_count": null,
   "id": "32839a9f-12a7-4cef-861a-e692aaf47de2",
   "metadata": {},
   "outputs": [],
   "source": [
    "dataset = dataset.map(\n",
    "    utils.get_stringify_conversation,\n",
    "    num_proc=20\n",
    ")"
   ]
  },
  {
   "cell_type": "code",
   "execution_count": null,
   "id": "fa824716-6651-4828-80d8-e37c82d2eb8e",
   "metadata": {},
   "outputs": [],
   "source": [
    "print(dataset['train_sft']['str_msg'][0])"
   ]
  },
  {
   "cell_type": "code",
   "execution_count": null,
   "id": "b3037dc6-8870-4346-847e-c9f49302cac1",
   "metadata": {},
   "outputs": [],
   "source": [
    "m = dataset['train_sft']['str_msg'][0]"
   ]
  },
  {
   "cell_type": "code",
   "execution_count": null,
   "id": "03e634ea-12cc-4511-9a5f-9b74458a7feb",
   "metadata": {},
   "outputs": [],
   "source": [
    "# m = 'Translate english to devnagri hindi: ' + m"
   ]
  },
  {
   "cell_type": "code",
   "execution_count": null,
   "id": "48803515-5576-4f23-86e3-68d1b96d90e8",
   "metadata": {},
   "outputs": [],
   "source": [
    "m = \"My name is Romit\""
   ]
  },
  {
   "cell_type": "code",
   "execution_count": null,
   "id": "eef9cb0a-bf91-41d4-8afd-3c0af8497518",
   "metadata": {},
   "outputs": [],
   "source": [
    "tokenizer.src_lang = 'en_XX'\n",
    "t = tokenizer(m, return_tensors='pt').input_ids.to('cuda:0')"
   ]
  },
  {
   "cell_type": "code",
   "execution_count": null,
   "id": "f1dc2ff2-2ff5-426a-aef2-252ca8823136",
   "metadata": {},
   "outputs": [],
   "source": [
    "o = model.generate(t, forced_bos_token_id=tokenizer.lang_code_to_id['hi_IN'])"
   ]
  },
  {
   "cell_type": "code",
   "execution_count": null,
   "id": "ddf1d53c-ed4c-44f5-a53f-e486dd6a53ef",
   "metadata": {},
   "outputs": [],
   "source": [
    "tokenizer.decode(o[0])"
   ]
  },
  {
   "cell_type": "code",
   "execution_count": null,
   "id": "3efb808e-2a67-47dd-a168-be7917677711",
   "metadata": {},
   "outputs": [],
   "source": [
    "article_hi = \"संयुक्त राष्ट्र के प्रमुख का कहना है कि सीरिया में कोई सैन्य समाधान नहीं है\"\n",
    "article_ar = \"الأمين العام للأمم المتحدة يقول إنه لا يوجد حل عسكري في سوريا.\""
   ]
  },
  {
   "cell_type": "code",
   "execution_count": null,
   "id": "dc22e3c6-b62d-40cb-be65-5c1a8022e484",
   "metadata": {
    "scrolled": true
   },
   "outputs": [],
   "source": [
    "tokenizer.src_lang = \"en_XX\"\n",
    "encoded_hi = tokenizer(m, return_tensors=\"pt\")\n",
    "generated_tokens = model.generate(**encoded_hi, forced_bos_token_id=tokenizer.lang_code_to_id[\"hi_IN\"])\n",
    "tokenizer.batch_decode(generated_tokens, skip_special_tokens=True)"
   ]
  },
  {
   "cell_type": "code",
   "execution_count": null,
   "id": "74b00d3c-c194-40ed-95e6-e8dafd2b0f2a",
   "metadata": {},
   "outputs": [],
   "source": []
  }
 ],
 "metadata": {
  "kernelspec": {
   "display_name": "Python 3 (ipykernel)",
   "language": "python",
   "name": "python3"
  },
  "language_info": {
   "codemirror_mode": {
    "name": "ipython",
    "version": 3
   },
   "file_extension": ".py",
   "mimetype": "text/x-python",
   "name": "python",
   "nbconvert_exporter": "python",
   "pygments_lexer": "ipython3",
   "version": "3.11.7"
  }
 },
 "nbformat": 4,
 "nbformat_minor": 5
}
