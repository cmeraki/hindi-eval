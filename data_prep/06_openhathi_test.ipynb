{
 "cells": [
  {
   "cell_type": "code",
   "execution_count": null,
   "metadata": {},
   "outputs": [],
   "source": [
    "from typing import List\n",
    "from translators import HFTranslator\n",
    "from torch.cuda import empty_cache\n",
    "from datasets import load_dataset, DatasetDict"
   ]
  },
  {
   "cell_type": "code",
   "execution_count": null,
   "metadata": {},
   "outputs": [],
   "source": [
    "translator = HFTranslator(\n",
    "    'TheBloke/Llama-2-7B-Chat-GPTQ',\n",
    "    device_map='cuda:0',\n",
    "    use_flash_attention_2=True\n",
    ")"
   ]
  },
  {
   "cell_type": "code",
   "execution_count": null,
   "metadata": {},
   "outputs": [],
   "source": [
    "ips = [\n",
    "    \"Welcome to our annual technology conference.\",\n",
    "    \"The new software update significantly improves system performance.\",\n",
    "    \"Climate change is a global challenge that requires immediate action.\",\n",
    "    \"Our team achieved remarkable success in the last quarter.\",\n",
    "    \"Healthy eating habits contribute to overall well-being.\",\n",
    "    \"Artificial Intelligence is transforming the future of industries.\",\n",
    "    \"Effective communication skills are essential for career growth.\",\n",
    "    \"The importance of cybersecurity in protecting data cannot be overstated.\",\n",
    "    \"Education is the key to unlocking human potential.\",\n",
    "    \"Sustainable development goals aim to create a better world for future generations.\",\n",
    "]"
   ]
  },
  {
   "cell_type": "code",
   "execution_count": null,
   "metadata": {},
   "outputs": [],
   "source": [
    "%%time\n",
    "ops = translator.translate(ips, batch_size=4)"
   ]
  },
  {
   "cell_type": "markdown",
   "metadata": {},
   "source": [
    "time, one by one - 3m 41\n",
    "batch size = 4 - 6.34s\n",
    "batch size = 8 - 5.88s"
   ]
  },
  {
   "cell_type": "code",
   "execution_count": null,
   "metadata": {},
   "outputs": [],
   "source": [
    "print(ops)"
   ]
  },
  {
   "cell_type": "code",
   "execution_count": null,
   "metadata": {},
   "outputs": [],
   "source": [
    "print(ops)"
   ]
  },
  {
   "cell_type": "code",
   "execution_count": null,
   "metadata": {},
   "outputs": [],
   "source": [
    "mmlu = load_dataset('lukaemon/mmlu', 'elementary_mathematics')\n",
    "mmlu['train'][0]"
   ]
  },
  {
   "cell_type": "code",
   "execution_count": null,
   "metadata": {},
   "outputs": [],
   "source": [
    "def mmlu_processor(example: DatasetDict, column_names: List[str], translator, translator_name: str) -> DatasetDict:\n",
    "\n",
    "    to_translate = [example[col] for col in column_names]\n",
    "    # print(to_translate)\n",
    "\n",
    "    translations = translator.translate(to_translate, batch_size=8)\n",
    "\n",
    "    for elem, col in zip(translations, column_names):\n",
    "        example[f'translated_response_{col}_{translator_name}'] = elem\n",
    "\n",
    "    return example"
   ]
  },
  {
   "cell_type": "code",
   "execution_count": null,
   "metadata": {},
   "outputs": [],
   "source": [
    "ds = mmlu['train']#.select(range(1))"
   ]
  },
  {
   "cell_type": "code",
   "execution_count": null,
   "metadata": {},
   "outputs": [],
   "source": [
    "empty_cache()"
   ]
  },
  {
   "cell_type": "code",
   "execution_count": null,
   "metadata": {},
   "outputs": [],
   "source": [
    "ds = ds.map(\n",
    "    lambda x: mmlu_processor(x, ds.column_names, translator, translator_name='hf')\n",
    ")"
   ]
  },
  {
   "cell_type": "code",
   "execution_count": null,
   "metadata": {},
   "outputs": [],
   "source": [
    "print(ds['translated_response_input_hf'])"
   ]
  },
  {
   "cell_type": "code",
   "execution_count": null,
   "metadata": {},
   "outputs": [],
   "source": [
    "print(ops[7])"
   ]
  },
  {
   "cell_type": "code",
   "execution_count": null,
   "metadata": {},
   "outputs": [],
   "source": []
  }
 ],
 "metadata": {
  "kernelspec": {
   "display_name": "py311",
   "language": "python",
   "name": "python3"
  },
  "language_info": {
   "codemirror_mode": {
    "name": "ipython",
    "version": 3
   },
   "file_extension": ".py",
   "mimetype": "text/x-python",
   "name": "python",
   "nbconvert_exporter": "python",
   "pygments_lexer": "ipython3",
   "version": "3.11.6"
  }
 },
 "nbformat": 4,
 "nbformat_minor": 2
}
