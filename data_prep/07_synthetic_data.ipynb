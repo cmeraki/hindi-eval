{
 "cells": [
  {
   "cell_type": "code",
   "execution_count": 1,
   "metadata": {},
   "outputs": [],
   "source": [
    "import json\n",
    "from textwrap import dedent\n",
    "from dotenv import load_dotenv\n",
    "load_dotenv()\n",
    "\n",
    "from openai import OpenAI\n",
    "from datasets import load_dataset"
   ]
  },
  {
   "cell_type": "code",
   "execution_count": 3,
   "metadata": {},
   "outputs": [],
   "source": [
    "client = OpenAI()"
   ]
  },
  {
   "cell_type": "code",
   "execution_count": 2,
   "metadata": {},
   "outputs": [],
   "source": [
    "mmlu = load_dataset('lukaemon/mmlu', 'elementary_mathematics')\n",
    "ds = mmlu['train']"
   ]
  },
  {
   "cell_type": "code",
   "execution_count": null,
   "metadata": {},
   "outputs": [],
   "source": [
    "system_prompt = {\n",
    "    'role': 'system',\n",
    "    'content': dedent('''\n",
    "        You are an helpful assistant who produces synthetic data in the subject of {subject}.\n",
    "        Always reply with question and 4 choices for the answers.\n",
    "        Generate a new question in the similar fashion to what has been shared.\n",
    "        You always output in JSON format.\n",
    "    ''').strip().format(subject='elementary mathematics')\n",
    "}\n",
    "\n",
    "example_prompt = dedent('''\n",
    "    Question: {question}\n",
    "\n",
    "    Choices:\n",
    "        A: {option_a}\n",
    "        B: {option_b}\n",
    "        C: {option_c}\n",
    "        D: {option_d}\n",
    "''').strip()"
   ]
  },
  {
   "cell_type": "code",
   "execution_count": null,
   "metadata": {},
   "outputs": [],
   "source": [
    "ds[0]"
   ]
  },
  {
   "cell_type": "code",
   "execution_count": null,
   "metadata": {},
   "outputs": [],
   "source": [
    "user_prompt = {\n",
    "    'role': 'user',\n",
    "    'content': example_prompt.format(\n",
    "        question=ds[0]['input'],\n",
    "        option_a=ds[0]['A'],\n",
    "        option_b=ds[0]['B'],\n",
    "        option_c=ds[0]['C'],\n",
    "        option_d=ds[0]['D'],\n",
    "    )\n",
    "}\n",
    "\n",
    "assistant_prompt = {\n",
    "    'role': 'assistant',\n",
    "    'content': '''\n",
    "    {\n",
    "    \"Question\": \"Olivia used the rule 'Add 11' to create the number pattern shown below. 10, 21, 32, 43, 54. Which statement about the number pattern is true?\",\n",
    "    \"Choices\": {\n",
    "        \"A\": \"The 10th number in the pattern will be an even number.\",\n",
    "        \"B\": \"The number pattern will never have two even numbers next to each other.\",\n",
    "        \"C\": \"The next two numbers in the pattern will be an even number then an odd number.\",\n",
    "        \"D\": \"If the number pattern started with an odd number then the pattern would have only odd numbers in it.\"\n",
    "    }\n",
    "    }\n",
    "    '''\n",
    "}\n",
    "\n",
    "user_prompt1 = {\n",
    "    'role': 'user',\n",
    "    'content': example_prompt.format(\n",
    "        question=ds[1]['input'],\n",
    "        option_a=ds[1]['A'],\n",
    "        option_b=ds[1]['B'],\n",
    "        option_c=ds[1]['C'],\n",
    "        option_d=ds[1]['D'],\n",
    "    )\n",
    "}"
   ]
  },
  {
   "cell_type": "code",
   "execution_count": null,
   "metadata": {},
   "outputs": [],
   "source": [
    "try:\n",
    "    completions = client.chat.completions.create(\n",
    "        model='gpt-3.5-turbo-1106',\n",
    "        response_format={'type': 'json_object'},\n",
    "        messages=[\n",
    "            system_prompt,\n",
    "            # user_prompt,\n",
    "            # assistant_prompt,\n",
    "            user_prompt1\n",
    "        ]\n",
    "    )\n",
    "\n",
    "    if completions.choices[0].finish_reason == 'length':\n",
    "        raise IOError('Reached maximum output length')\n",
    "\n",
    "    try:\n",
    "        op = json.loads(completions.choices[0].message.content)\n",
    "    except:\n",
    "        raise ValueError('Value returned by the model is not valid JSON')\n",
    "\n",
    "    print(f'Tokens used\" {completions.usage}')\n",
    "\n",
    "except Exception as err:\n",
    "    print(f'Error raised in accesing the API: {err}')"
   ]
  },
  {
   "cell_type": "code",
   "execution_count": null,
   "metadata": {},
   "outputs": [],
   "source": [
    "print(json.dumps(op, indent=4))"
   ]
  },
  {
   "cell_type": "code",
   "execution_count": null,
   "metadata": {},
   "outputs": [],
   "source": [
    "# parse into pydantic class (so that we can verify)\n",
    "# and add to responses list"
   ]
  },
  {
   "cell_type": "markdown",
   "metadata": {},
   "source": [
    "### Hindi articles generation"
   ]
  },
  {
   "cell_type": "code",
   "execution_count": 4,
   "metadata": {},
   "outputs": [],
   "source": [
    "system_prompt = {\n",
    "    'role': 'system',\n",
    "    'content': dedent('''\n",
    "        You are an helpful assistant who produces synthetic data in colloquial Devnagri Hindi.\n",
    "        The data should be relevant to India.\n",
    "    ''').strip()\n",
    "}\n",
    "\n",
    "user_prompt = {\n",
    "    'role': 'user',\n",
    "    'content': 'Generate a fictional story set in a school classroom (200-600 words)'\n",
    "}"
   ]
  },
  {
   "cell_type": "code",
   "execution_count": 5,
   "metadata": {},
   "outputs": [
    {
     "name": "stdout",
     "output_type": "stream",
     "text": [
      "Error raised in accesing the API: Value returned by the model is not valid JSON\n"
     ]
    }
   ],
   "source": [
    "try:\n",
    "    completions = client.chat.completions.create(\n",
    "        model='gpt-4-1106-preview',\n",
    "        # response_format={'type': 'json_object'},\n",
    "        messages=[\n",
    "            system_prompt,\n",
    "            user_prompt,\n",
    "        ]\n",
    "    )\n",
    "\n",
    "    if completions.choices[0].finish_reason == 'length':\n",
    "        raise IOError('Reached maximum output length')\n",
    "\n",
    "    try:\n",
    "        op = json.loads(completions.choices[0].message.content)\n",
    "    except:\n",
    "        raise ValueError('Value returned by the model is not valid JSON')\n",
    "\n",
    "    print(f'Tokens used\" {completions.usage}')\n",
    "\n",
    "except Exception as err:\n",
    "    print(f'Error raised in accesing the API: {err}')"
   ]
  },
  {
   "cell_type": "code",
   "execution_count": 6,
   "metadata": {},
   "outputs": [
    {
     "name": "stdout",
     "output_type": "stream",
     "text": [
      "CompletionUsage(completion_tokens=1723, prompt_tokens=53, total_tokens=1776)\n"
     ]
    }
   ],
   "source": [
    "print(completions.usage)"
   ]
  },
  {
   "cell_type": "code",
   "execution_count": 7,
   "metadata": {},
   "outputs": [
    {
     "name": "stdout",
     "output_type": "stream",
     "text": [
      "एक बार की बात है, मध्य प्रदेश के एक छोटे से गाँव के सरकारी स्कूल में एक नई अध्यापिका आईं। उनका नाम था नीति मैम। उन्होंने गाँव के बच्चों के मन में विज्ञान की दिलचस्पी जगाने की ठान ली।\n",
      "\n",
      "पहले दिन स्कूल में नीति मैम ने बच्चों से परिचय कराया। वे बच्चों से बोलीं, \"देखो बच्चों, विज्ञान कोई जटिल विषय नहीं है। यह तो हमारे चारों ओर है।\" फिर उन्होंने अपनी जेब से एक छोटा सा आईना निकाला और धूप में इस तरह घुमाया कि एक बच्चे के चेहरे पर रौशनी की एक छोटी सी बिंदी दिखाई दे। तपाक से एक बच्चे ने पूछा, \"मैम ये कैसे हुआ?\"\n",
      "\n",
      "नीति मैम मुस्कुराईं और बोलीं, \"यह प्रकाश के परावर्तन का उदाहरण है, जो विज्ञान का एक हिस्सा है।\" उनके इस सरल उदाहरण से बच्चों की समझ में आने लगा कि विज्ञान वास्तव में उनके आस-पास ही है।\n",
      "\n",
      "उस दिन से, हर सुबह बच्चे उत्सुकता से स्कूल आते क्योंकि नीति मैम का पढ़ाया हर सबक एक नया अविष्कार लगता। वे खेल-खेल में विज्ञान की जटिल बातों को आसान तरीके से समझातीं।\n",
      "\n",
      "एक दिन उन्होंने बच्चों से कहा, \"आज हम मौसम के बारे में जानेंगे।\" उन्होंने बच्चों को बाहर ले जाकर आसमान में बादलों को दिखाया और बच्चों को समझाया कि कैसे बादल बनते हैं और वर्षा होती है। बच्चे अचरज में पड़ गए और उन्होंने अपनी अध्यापिका से अनेक प्रश्न पूछे, जिनका जवाब नीति मैम ने बड़े प्यार से दिया।\n",
      "\n",
      "समय के साथ स्कूल का हर बच्चा नीति मैम का मुरीद हो गया। उनका तरीका ऐसा था कि पढ़ाई अब उन बच्चों के लिए बोझ नहीं बल्कि एक रोचक खेल बन गई थी।\n",
      "\n",
      "स्कूल के वार्षिक दिवस पर, नीति मैम के बच्चों ने एक विज्ञान प्रदर्शनी लगाई। उन्होंने घरेलू सामानों का उपयोग करके विज्ञान के आदर्श और मॉडल बनाए। उस प्रदर्शनी को देखकर गाँववाले भी अचंभित रह गए। उन्होंने बच्चों की तरक्की और ज्ञान की प्यास देखी और सभी ने नीति मैम की प्रशंसा की।\n",
      "\n",
      "इस तरह नीतи मैम ने अपनी साधारण सी शिक्षा पद्धति से गाँव के स्कूल को एक नई दिशा दी और बच्चों के दिलों में विज्ञान के प्रति एक अमिट उत्साह और जिज्ञासा भर दी।\n"
     ]
    }
   ],
   "source": [
    "print(completions.choices[0].message.content)"
   ]
  },
  {
   "cell_type": "markdown",
   "metadata": {},
   "source": [
    "~1800 tokens = 90 seconds"
   ]
  }
 ],
 "metadata": {
  "kernelspec": {
   "display_name": "py311",
   "language": "python",
   "name": "python3"
  },
  "language_info": {
   "codemirror_mode": {
    "name": "ipython",
    "version": 3
   },
   "file_extension": ".py",
   "mimetype": "text/x-python",
   "name": "python",
   "nbconvert_exporter": "python",
   "pygments_lexer": "ipython3",
   "version": "3.11.6"
  }
 },
 "nbformat": 4,
 "nbformat_minor": 2
}
