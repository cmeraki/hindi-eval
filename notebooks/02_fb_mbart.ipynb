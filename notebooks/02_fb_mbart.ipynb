{
 "cells": [
  {
   "cell_type": "code",
   "execution_count": null,
   "id": "b6e49584-c0f4-473e-b3bc-2d1d9cfd6359",
   "metadata": {},
   "outputs": [],
   "source": [
    "import numpy as np\n",
    "import matplotlib.pyplot as plt\n",
    "    \n",
    "from openai import OpenAI\n",
    "from dotenv import load_dotenv\n",
    "from typing import List, Dict\n",
    "\n",
    "from datasets import load_dataset\n",
    "\n",
    "import utils as utils\n",
    "from transformers import AutoProcessor, SeamlessM4TModel, SeamlessM4TForTextToText\n",
    "\n",
    "from torch.cuda import empty_cache\n",
    "from transformers import pipeline\n",
    "\n",
    "import torch"
   ]
  },
  {
   "cell_type": "markdown",
   "id": "cc341903-32ed-4dd1-b270-5ddfa3c88999",
   "metadata": {},
   "source": [
    "Huggingface models"
   ]
  },
  {
   "cell_type": "code",
   "execution_count": null,
   "id": "c19c878c-335a-4045-bbff-a3d38dd8ea04",
   "metadata": {},
   "outputs": [],
   "source": [
    "model_id = 'facebook/hf-seamless-m4t-large'"
   ]
  },
  {
   "cell_type": "code",
   "execution_count": null,
   "id": "3b12c30a-ef73-4fd7-83a9-ca72e74b7d3e",
   "metadata": {},
   "outputs": [],
   "source": [
    "processor = AutoProcessor.from_pretrained(model_id, src_lang=\"eng\")\n",
    "model = SeamlessM4TForTextToText.from_pretrained(\n",
    "    model_id,\n",
    "    device_map='cuda:0',\n",
    "    torch_dtype=torch.bfloat16\n",
    ")"
   ]
  },
  {
   "cell_type": "markdown",
   "id": "4c6a027c-3bea-4187-ab9b-d0197bae786b",
   "metadata": {},
   "source": [
    "Hugginface open datasets"
   ]
  },
  {
   "cell_type": "code",
   "execution_count": null,
   "id": "ae30e42e-025b-4d2d-904a-3ecb9d5f79b2",
   "metadata": {},
   "outputs": [],
   "source": [
    "dataset = load_dataset('HuggingFaceH4/no_robots')"
   ]
  },
  {
   "cell_type": "code",
   "execution_count": null,
   "id": "9c0e2b6e-525d-43ae-bc84-10621bdddfba",
   "metadata": {},
   "outputs": [],
   "source": [
    "def get_stringify_conversation(example: Dict):\n",
    "    str_msg = \"\"\n",
    "    for message in example['messages']:\n",
    "        str_msg += message['content']\n",
    "        str_msg += '\\n'\n",
    "\n",
    "    example['str_msg'] = str_msg\n",
    "    return example"
   ]
  },
  {
   "cell_type": "code",
   "execution_count": null,
   "id": "32839a9f-12a7-4cef-861a-e692aaf47de2",
   "metadata": {},
   "outputs": [],
   "source": [
    "dataset = dataset.map(\n",
    "    utils.get_stringify_conversation,\n",
    "    num_proc=20\n",
    ")"
   ]
  },
  {
   "cell_type": "code",
   "execution_count": null,
   "id": "fa824716-6651-4828-80d8-e37c82d2eb8e",
   "metadata": {},
   "outputs": [],
   "source": [
    "print(dataset['train_sft']['str_msg'][0])"
   ]
  },
  {
   "cell_type": "code",
   "execution_count": null,
   "id": "b3037dc6-8870-4346-847e-c9f49302cac1",
   "metadata": {},
   "outputs": [],
   "source": [
    "m = dataset['train_sft']['str_msg'][0:10]"
   ]
  },
  {
   "cell_type": "code",
   "execution_count": null,
   "id": "c88aaf6d-d7dc-457d-9007-02364ce9b67f",
   "metadata": {},
   "outputs": [],
   "source": [
    "text_inputs = processor(text=m, src_lang=\"eng\", return_tensors=\"pt\").input_ids.to('cuda:0')"
   ]
  },
  {
   "cell_type": "code",
   "execution_count": null,
   "id": "3334d660-2e2f-48f2-9e7e-d02ca350f379",
   "metadata": {},
   "outputs": [],
   "source": [
    "model.config.max_new_tokens = 2048"
   ]
  },
  {
   "cell_type": "code",
   "execution_count": null,
   "id": "7fab5f20-ffcd-4b78-8b59-d21b39b237e3",
   "metadata": {},
   "outputs": [],
   "source": [
    "model.config.max_new_tokens"
   ]
  },
  {
   "cell_type": "code",
   "execution_count": null,
   "id": "857c53d9-0c3e-4839-8eac-f369453484cb",
   "metadata": {},
   "outputs": [],
   "source": [
    "%%time\n",
    "# from text\n",
    "output_tokens = model.generate(\n",
    "    text_inputs, tgt_lang=\"hin\"\n",
    "    # max_new_tokens=2046\n",
    ")"
   ]
  },
  {
   "cell_type": "code",
   "execution_count": null,
   "id": "63591b9b-8cf2-47ee-b30d-bc6d4707cdbf",
   "metadata": {},
   "outputs": [],
   "source": [
    "len(output_tokens[1].tolist())"
   ]
  },
  {
   "cell_type": "code",
   "execution_count": null,
   "id": "f499a153",
   "metadata": {},
   "outputs": [],
   "source": [
    "processor.batch_decode(output_tokens, skip_special_tokens=True)#.to('cpu')"
   ]
  },
  {
   "cell_type": "code",
   "execution_count": null,
   "id": "9c558d20-4fc4-4e1c-96b9-7a82bf66d11c",
   "metadata": {},
   "outputs": [],
   "source": [
    "translated_text_from_text = processor.decode(\n",
    "    output_tokens, skip_special_tokens=False\n",
    ")"
   ]
  },
  {
   "cell_type": "code",
   "execution_count": null,
   "id": "74b00d3c-c194-40ed-95e6-e8dafd2b0f2a",
   "metadata": {
    "scrolled": true
   },
   "outputs": [],
   "source": [
    "translated_text_from_text"
   ]
  },
  {
   "cell_type": "code",
   "execution_count": null,
   "id": "a9c48930-5e8d-4fca-95ab-628db5d84ad0",
   "metadata": {},
   "outputs": [],
   "source": []
  }
 ],
 "metadata": {
  "kernelspec": {
   "display_name": "Python 3 (ipykernel)",
   "language": "python",
   "name": "python3"
  },
  "language_info": {
   "codemirror_mode": {
    "name": "ipython",
    "version": 3
   },
   "file_extension": ".py",
   "mimetype": "text/x-python",
   "name": "python",
   "nbconvert_exporter": "python",
   "pygments_lexer": "ipython3",
   "version": "3.11.7"
  }
 },
 "nbformat": 4,
 "nbformat_minor": 5
}
